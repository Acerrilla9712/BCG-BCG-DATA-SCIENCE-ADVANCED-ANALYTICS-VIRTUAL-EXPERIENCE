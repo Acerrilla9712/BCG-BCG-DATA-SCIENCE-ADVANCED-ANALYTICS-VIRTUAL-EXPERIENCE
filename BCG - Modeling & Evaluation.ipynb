{
 "cells": [
  {
   "cell_type": "markdown",
   "metadata": {},
   "source": [
    "# BCG - Modeling & Evaluation"
   ]
  },
  {
   "cell_type": "code",
   "execution_count": 65,
   "metadata": {},
   "outputs": [],
   "source": [
    "import datetime\n",
    "import matplotlib.pyplot as plt\n",
    "import numpy as np\n",
    "import pandas as pd\n",
    "import seaborn as sns"
   ]
  },
  {
   "cell_type": "markdown",
   "metadata": {},
   "source": [
    "### Load the data"
   ]
  },
  {
   "cell_type": "code",
   "execution_count": 48,
   "metadata": {},
   "outputs": [],
   "source": [
    "train = pd.read_csv('Module4_data.csv')"
   ]
  },
  {
   "cell_type": "code",
   "execution_count": 49,
   "metadata": {},
   "outputs": [
    {
     "data": {
      "text/html": [
       "<div>\n",
       "<style scoped>\n",
       "    .dataframe tbody tr th:only-of-type {\n",
       "        vertical-align: middle;\n",
       "    }\n",
       "\n",
       "    .dataframe tbody tr th {\n",
       "        vertical-align: top;\n",
       "    }\n",
       "\n",
       "    .dataframe thead th {\n",
       "        text-align: right;\n",
       "    }\n",
       "</style>\n",
       "<table border=\"1\" class=\"dataframe\">\n",
       "  <thead>\n",
       "    <tr style=\"text-align: right;\">\n",
       "      <th></th>\n",
       "      <th>cons_12m</th>\n",
       "      <th>cons_gas_12m</th>\n",
       "      <th>cons_last_month</th>\n",
       "      <th>forecast_cons_12m</th>\n",
       "      <th>forecast_cons_year</th>\n",
       "      <th>forecast_discount_energy</th>\n",
       "      <th>forecast_meter_rent_12m</th>\n",
       "      <th>forecast_price_energy_p1</th>\n",
       "      <th>forecast_price_energy_p2</th>\n",
       "      <th>forecast_price_pow_p1</th>\n",
       "      <th>...</th>\n",
       "      <th>margin_gross_pow_ele</th>\n",
       "      <th>margin_net_pow_ele</th>\n",
       "      <th>nb_prod_act</th>\n",
       "      <th>net_margin</th>\n",
       "      <th>num_years_antig</th>\n",
       "      <th>pow_max</th>\n",
       "      <th>churn</th>\n",
       "      <th>duration</th>\n",
       "      <th>channel_sales_encoded</th>\n",
       "      <th>retention</th>\n",
       "    </tr>\n",
       "  </thead>\n",
       "  <tbody>\n",
       "    <tr>\n",
       "      <th>0</th>\n",
       "      <td>0</td>\n",
       "      <td>54946</td>\n",
       "      <td>0</td>\n",
       "      <td>0.00</td>\n",
       "      <td>0</td>\n",
       "      <td>0.0</td>\n",
       "      <td>1.78</td>\n",
       "      <td>0.114481</td>\n",
       "      <td>0.098142</td>\n",
       "      <td>40.606701</td>\n",
       "      <td>...</td>\n",
       "      <td>25.44</td>\n",
       "      <td>25.44</td>\n",
       "      <td>2</td>\n",
       "      <td>678.99</td>\n",
       "      <td>3</td>\n",
       "      <td>43.648</td>\n",
       "      <td>1</td>\n",
       "      <td>1096</td>\n",
       "      <td>0.106385</td>\n",
       "      <td>3</td>\n",
       "    </tr>\n",
       "    <tr>\n",
       "      <th>1</th>\n",
       "      <td>4660</td>\n",
       "      <td>0</td>\n",
       "      <td>0</td>\n",
       "      <td>189.95</td>\n",
       "      <td>0</td>\n",
       "      <td>0.0</td>\n",
       "      <td>16.27</td>\n",
       "      <td>0.145711</td>\n",
       "      <td>0.000000</td>\n",
       "      <td>44.311378</td>\n",
       "      <td>...</td>\n",
       "      <td>16.38</td>\n",
       "      <td>16.38</td>\n",
       "      <td>1</td>\n",
       "      <td>18.89</td>\n",
       "      <td>6</td>\n",
       "      <td>13.800</td>\n",
       "      <td>0</td>\n",
       "      <td>2566</td>\n",
       "      <td>0.106385</td>\n",
       "      <td>7</td>\n",
       "    </tr>\n",
       "    <tr>\n",
       "      <th>2</th>\n",
       "      <td>544</td>\n",
       "      <td>0</td>\n",
       "      <td>0</td>\n",
       "      <td>47.96</td>\n",
       "      <td>0</td>\n",
       "      <td>0.0</td>\n",
       "      <td>38.72</td>\n",
       "      <td>0.165794</td>\n",
       "      <td>0.087899</td>\n",
       "      <td>44.311378</td>\n",
       "      <td>...</td>\n",
       "      <td>28.60</td>\n",
       "      <td>28.60</td>\n",
       "      <td>1</td>\n",
       "      <td>6.60</td>\n",
       "      <td>6</td>\n",
       "      <td>13.856</td>\n",
       "      <td>0</td>\n",
       "      <td>2192</td>\n",
       "      <td>0.106385</td>\n",
       "      <td>6</td>\n",
       "    </tr>\n",
       "    <tr>\n",
       "      <th>3</th>\n",
       "      <td>1584</td>\n",
       "      <td>0</td>\n",
       "      <td>0</td>\n",
       "      <td>240.04</td>\n",
       "      <td>0</td>\n",
       "      <td>0.0</td>\n",
       "      <td>19.83</td>\n",
       "      <td>0.146694</td>\n",
       "      <td>0.000000</td>\n",
       "      <td>44.311378</td>\n",
       "      <td>...</td>\n",
       "      <td>30.22</td>\n",
       "      <td>30.22</td>\n",
       "      <td>1</td>\n",
       "      <td>25.46</td>\n",
       "      <td>6</td>\n",
       "      <td>13.200</td>\n",
       "      <td>0</td>\n",
       "      <td>2192</td>\n",
       "      <td>0.053712</td>\n",
       "      <td>6</td>\n",
       "    </tr>\n",
       "    <tr>\n",
       "      <th>4</th>\n",
       "      <td>121335</td>\n",
       "      <td>0</td>\n",
       "      <td>12400</td>\n",
       "      <td>10865.02</td>\n",
       "      <td>12400</td>\n",
       "      <td>0.0</td>\n",
       "      <td>170.74</td>\n",
       "      <td>0.110083</td>\n",
       "      <td>0.093746</td>\n",
       "      <td>40.606701</td>\n",
       "      <td>...</td>\n",
       "      <td>-3.18</td>\n",
       "      <td>-3.18</td>\n",
       "      <td>1</td>\n",
       "      <td>823.18</td>\n",
       "      <td>6</td>\n",
       "      <td>75.000</td>\n",
       "      <td>0</td>\n",
       "      <td>2192</td>\n",
       "      <td>0.106385</td>\n",
       "      <td>6</td>\n",
       "    </tr>\n",
       "  </tbody>\n",
       "</table>\n",
       "<p>5 rows × 21 columns</p>\n",
       "</div>"
      ],
      "text/plain": [
       "   cons_12m  cons_gas_12m  cons_last_month  forecast_cons_12m  \\\n",
       "0         0         54946                0               0.00   \n",
       "1      4660             0                0             189.95   \n",
       "2       544             0                0              47.96   \n",
       "3      1584             0                0             240.04   \n",
       "4    121335             0            12400           10865.02   \n",
       "\n",
       "   forecast_cons_year  forecast_discount_energy  forecast_meter_rent_12m  \\\n",
       "0                   0                       0.0                     1.78   \n",
       "1                   0                       0.0                    16.27   \n",
       "2                   0                       0.0                    38.72   \n",
       "3                   0                       0.0                    19.83   \n",
       "4               12400                       0.0                   170.74   \n",
       "\n",
       "   forecast_price_energy_p1  forecast_price_energy_p2  forecast_price_pow_p1  \\\n",
       "0                  0.114481                  0.098142              40.606701   \n",
       "1                  0.145711                  0.000000              44.311378   \n",
       "2                  0.165794                  0.087899              44.311378   \n",
       "3                  0.146694                  0.000000              44.311378   \n",
       "4                  0.110083                  0.093746              40.606701   \n",
       "\n",
       "   ...  margin_gross_pow_ele  margin_net_pow_ele  nb_prod_act  net_margin  \\\n",
       "0  ...                 25.44               25.44            2      678.99   \n",
       "1  ...                 16.38               16.38            1       18.89   \n",
       "2  ...                 28.60               28.60            1        6.60   \n",
       "3  ...                 30.22               30.22            1       25.46   \n",
       "4  ...                 -3.18               -3.18            1      823.18   \n",
       "\n",
       "   num_years_antig  pow_max  churn  duration  channel_sales_encoded  retention  \n",
       "0                3   43.648      1      1096               0.106385          3  \n",
       "1                6   13.800      0      2566               0.106385          7  \n",
       "2                6   13.856      0      2192               0.106385          6  \n",
       "3                6   13.200      0      2192               0.053712          6  \n",
       "4                6   75.000      0      2192               0.106385          6  \n",
       "\n",
       "[5 rows x 21 columns]"
      ]
     },
     "execution_count": 49,
     "metadata": {},
     "output_type": "execute_result"
    }
   ],
   "source": [
    "train.head()"
   ]
  },
  {
   "cell_type": "code",
   "execution_count": 50,
   "metadata": {},
   "outputs": [],
   "source": [
    "X_total = pd.read_csv('X_train_data.csv')"
   ]
  },
  {
   "cell_type": "code",
   "execution_count": 51,
   "metadata": {},
   "outputs": [],
   "source": [
    "y_total = pd.read_csv('Y_train_data.csv')"
   ]
  },
  {
   "cell_type": "code",
   "execution_count": 52,
   "metadata": {},
   "outputs": [
    {
     "name": "stdout",
     "output_type": "stream",
     "text": [
      "(173370, 1)\n",
      "(173370, 26)\n"
     ]
    }
   ],
   "source": [
    "print(y_total.shape)\n",
    "print(X_total.shape)"
   ]
  },
  {
   "cell_type": "code",
   "execution_count": 53,
   "metadata": {},
   "outputs": [],
   "source": [
    "# Split the data between the training and test data\n",
    "from sklearn.model_selection import train_test_split\n",
    "X_train, X_test, y_train, y_test = train_test_split(X_total, y_total, test_size=0.33, random_state=42)"
   ]
  },
  {
   "cell_type": "code",
   "execution_count": 54,
   "metadata": {},
   "outputs": [
    {
     "data": {
      "text/html": [
       "<div>\n",
       "<style scoped>\n",
       "    .dataframe tbody tr th:only-of-type {\n",
       "        vertical-align: middle;\n",
       "    }\n",
       "\n",
       "    .dataframe tbody tr th {\n",
       "        vertical-align: top;\n",
       "    }\n",
       "\n",
       "    .dataframe thead th {\n",
       "        text-align: right;\n",
       "    }\n",
       "</style>\n",
       "<table border=\"1\" class=\"dataframe\">\n",
       "  <thead>\n",
       "    <tr style=\"text-align: right;\">\n",
       "      <th></th>\n",
       "      <th>cons_12m</th>\n",
       "      <th>cons_gas_12m</th>\n",
       "      <th>cons_last_month</th>\n",
       "      <th>forecast_cons_12m</th>\n",
       "      <th>forecast_cons_year</th>\n",
       "      <th>forecast_discount_energy</th>\n",
       "      <th>forecast_meter_rent_12m</th>\n",
       "      <th>forecast_price_energy_p1</th>\n",
       "      <th>forecast_price_energy_p2</th>\n",
       "      <th>forecast_price_pow_p1</th>\n",
       "      <th>...</th>\n",
       "      <th>num_years_antig</th>\n",
       "      <th>pow_max</th>\n",
       "      <th>duration</th>\n",
       "      <th>channel_sales_encoded</th>\n",
       "      <th>price_p1_var</th>\n",
       "      <th>price_p2_var</th>\n",
       "      <th>price_p3_var</th>\n",
       "      <th>price_p1_fix</th>\n",
       "      <th>price_p2_fix</th>\n",
       "      <th>price_p3_fix</th>\n",
       "    </tr>\n",
       "  </thead>\n",
       "  <tbody>\n",
       "    <tr>\n",
       "      <th>62590</th>\n",
       "      <td>2587145</td>\n",
       "      <td>0</td>\n",
       "      <td>324254</td>\n",
       "      <td>3214.28</td>\n",
       "      <td>4067</td>\n",
       "      <td>0.0</td>\n",
       "      <td>16.44</td>\n",
       "      <td>0.162033</td>\n",
       "      <td>0.084138</td>\n",
       "      <td>44.311378</td>\n",
       "      <td>...</td>\n",
       "      <td>6</td>\n",
       "      <td>13.8</td>\n",
       "      <td>2192</td>\n",
       "      <td>0.053712</td>\n",
       "      <td>0.168654</td>\n",
       "      <td>0.085390</td>\n",
       "      <td>0.000000</td>\n",
       "      <td>44.444710</td>\n",
       "      <td>0.000000</td>\n",
       "      <td>0.000000</td>\n",
       "    </tr>\n",
       "    <tr>\n",
       "      <th>42434</th>\n",
       "      <td>20000</td>\n",
       "      <td>0</td>\n",
       "      <td>2245</td>\n",
       "      <td>2205.91</td>\n",
       "      <td>2245</td>\n",
       "      <td>0.0</td>\n",
       "      <td>130.32</td>\n",
       "      <td>0.116340</td>\n",
       "      <td>0.099998</td>\n",
       "      <td>40.606701</td>\n",
       "      <td>...</td>\n",
       "      <td>4</td>\n",
       "      <td>25.0</td>\n",
       "      <td>1461</td>\n",
       "      <td>0.106385</td>\n",
       "      <td>0.129444</td>\n",
       "      <td>0.106863</td>\n",
       "      <td>0.075004</td>\n",
       "      <td>40.565969</td>\n",
       "      <td>24.339581</td>\n",
       "      <td>16.226389</td>\n",
       "    </tr>\n",
       "    <tr>\n",
       "      <th>114468</th>\n",
       "      <td>6791</td>\n",
       "      <td>0</td>\n",
       "      <td>348</td>\n",
       "      <td>701.74</td>\n",
       "      <td>348</td>\n",
       "      <td>0.0</td>\n",
       "      <td>133.02</td>\n",
       "      <td>0.115174</td>\n",
       "      <td>0.098837</td>\n",
       "      <td>40.606701</td>\n",
       "      <td>...</td>\n",
       "      <td>6</td>\n",
       "      <td>15.1</td>\n",
       "      <td>2557</td>\n",
       "      <td>0.106385</td>\n",
       "      <td>0.118312</td>\n",
       "      <td>0.099632</td>\n",
       "      <td>0.071760</td>\n",
       "      <td>40.728885</td>\n",
       "      <td>24.437330</td>\n",
       "      <td>16.291555</td>\n",
       "    </tr>\n",
       "    <tr>\n",
       "      <th>51473</th>\n",
       "      <td>43951</td>\n",
       "      <td>0</td>\n",
       "      <td>0</td>\n",
       "      <td>4338.13</td>\n",
       "      <td>0</td>\n",
       "      <td>0.0</td>\n",
       "      <td>111.84</td>\n",
       "      <td>0.115232</td>\n",
       "      <td>0.100123</td>\n",
       "      <td>40.606701</td>\n",
       "      <td>...</td>\n",
       "      <td>5</td>\n",
       "      <td>47.0</td>\n",
       "      <td>2189</td>\n",
       "      <td>0.106385</td>\n",
       "      <td>0.128069</td>\n",
       "      <td>0.105842</td>\n",
       "      <td>0.073773</td>\n",
       "      <td>40.728885</td>\n",
       "      <td>24.437330</td>\n",
       "      <td>16.291555</td>\n",
       "    </tr>\n",
       "    <tr>\n",
       "      <th>152419</th>\n",
       "      <td>2724</td>\n",
       "      <td>0</td>\n",
       "      <td>273</td>\n",
       "      <td>410.83</td>\n",
       "      <td>273</td>\n",
       "      <td>0.0</td>\n",
       "      <td>13.78</td>\n",
       "      <td>0.147506</td>\n",
       "      <td>0.000000</td>\n",
       "      <td>45.806878</td>\n",
       "      <td>...</td>\n",
       "      <td>5</td>\n",
       "      <td>15.0</td>\n",
       "      <td>2192</td>\n",
       "      <td>0.106385</td>\n",
       "      <td>0.152445</td>\n",
       "      <td>0.000000</td>\n",
       "      <td>0.000000</td>\n",
       "      <td>44.266930</td>\n",
       "      <td>0.000000</td>\n",
       "      <td>0.000000</td>\n",
       "    </tr>\n",
       "  </tbody>\n",
       "</table>\n",
       "<p>5 rows × 26 columns</p>\n",
       "</div>"
      ],
      "text/plain": [
       "        cons_12m  cons_gas_12m  cons_last_month  forecast_cons_12m  \\\n",
       "62590    2587145             0           324254            3214.28   \n",
       "42434      20000             0             2245            2205.91   \n",
       "114468      6791             0              348             701.74   \n",
       "51473      43951             0                0            4338.13   \n",
       "152419      2724             0              273             410.83   \n",
       "\n",
       "        forecast_cons_year  forecast_discount_energy  forecast_meter_rent_12m  \\\n",
       "62590                 4067                       0.0                    16.44   \n",
       "42434                 2245                       0.0                   130.32   \n",
       "114468                 348                       0.0                   133.02   \n",
       "51473                    0                       0.0                   111.84   \n",
       "152419                 273                       0.0                    13.78   \n",
       "\n",
       "        forecast_price_energy_p1  forecast_price_energy_p2  \\\n",
       "62590                   0.162033                  0.084138   \n",
       "42434                   0.116340                  0.099998   \n",
       "114468                  0.115174                  0.098837   \n",
       "51473                   0.115232                  0.100123   \n",
       "152419                  0.147506                  0.000000   \n",
       "\n",
       "        forecast_price_pow_p1  ...  num_years_antig  pow_max  duration  \\\n",
       "62590               44.311378  ...                6     13.8      2192   \n",
       "42434               40.606701  ...                4     25.0      1461   \n",
       "114468              40.606701  ...                6     15.1      2557   \n",
       "51473               40.606701  ...                5     47.0      2189   \n",
       "152419              45.806878  ...                5     15.0      2192   \n",
       "\n",
       "        channel_sales_encoded  price_p1_var  price_p2_var  price_p3_var  \\\n",
       "62590                0.053712      0.168654      0.085390      0.000000   \n",
       "42434                0.106385      0.129444      0.106863      0.075004   \n",
       "114468               0.106385      0.118312      0.099632      0.071760   \n",
       "51473                0.106385      0.128069      0.105842      0.073773   \n",
       "152419               0.106385      0.152445      0.000000      0.000000   \n",
       "\n",
       "        price_p1_fix  price_p2_fix  price_p3_fix  \n",
       "62590      44.444710      0.000000      0.000000  \n",
       "42434      40.565969     24.339581     16.226389  \n",
       "114468     40.728885     24.437330     16.291555  \n",
       "51473      40.728885     24.437330     16.291555  \n",
       "152419     44.266930      0.000000      0.000000  \n",
       "\n",
       "[5 rows x 26 columns]"
      ]
     },
     "execution_count": 54,
     "metadata": {},
     "output_type": "execute_result"
    }
   ],
   "source": [
    "X_test.head()"
   ]
  },
  {
   "cell_type": "markdown",
   "metadata": {},
   "source": [
    "# Decision Trees and Random Forest algorithms"
   ]
  },
  {
   "cell_type": "code",
   "execution_count": 59,
   "metadata": {},
   "outputs": [
    {
     "name": "stdout",
     "output_type": "stream",
     "text": [
      "[0.99910468 0.99913909 0.99910465 0.99944902]\n",
      "[0.99745518 0.99754958 0.99745517 0.99843395]\n"
     ]
    }
   ],
   "source": [
    "# Test Decision Tree\n",
    "from sklearn.tree import DecisionTreeClassifier\n",
    "from sklearn.model_selection import cross_val_score\n",
    "from sklearn.metrics import confusion_matrix\n",
    "from sklearn.metrics import accuracy_score\n",
    "from sklearn.metrics import f1_score\n",
    "\n",
    "clf = DecisionTreeClassifier(random_state=0).fit(X_train, y_train)\n",
    "y_pred = clf.predict(X_test)\n",
    "scores_accuracy = cross_val_score(clf, X_train, y_train, cv=4, scoring='accuracy')\n",
    "scores_f1 = cross_val_score(clf, X_train, y_train, cv=4, scoring='f1_macro')\n",
    "\n",
    "# Print the confusion matrix\n",
    "y_true = y_test\n",
    "confusion_matrix(y_true, y_pred)\n",
    "\n",
    "print(scores_accuracy)\n",
    "print(scores_f1)"
   ]
  },
  {
   "cell_type": "code",
   "execution_count": 60,
   "metadata": {},
   "outputs": [
    {
     "name": "stdout",
     "output_type": "stream",
     "text": [
      "For the DecisionTrees, we have the following results : \n",
      "tn:51690  fp:14  fn:17 tp:5492 , meanwhile the accuracy is  0.9994581651023369\n",
      "The F1 score is 0.998442940619131\n"
     ]
    }
   ],
   "source": [
    "# Metrics for the DecisionTrees\n",
    "tn, fp, fn, tp = confusion_matrix(y_true, y_pred).ravel()\n",
    "print('For the DecisionTrees, we have the following results : \\ntn:'+ str(tn) + '  ' + 'fp:'+ str(fp) + '  '+'fn:'+ str(fn) + ' tp:'+ str(tp) + ' , meanwhile the accuracy is ' + \" \" + str(accuracy_score(y_true, y_pred)))\n",
    "print('The F1 score is ' + str(f1_score(y_true, y_pred, average='macro')))"
   ]
  },
  {
   "cell_type": "code",
   "execution_count": 96,
   "metadata": {},
   "outputs": [
    {
     "data": {
      "image/png": "[encoded data removed]",
      "text/plain": [
       "<Figure size 432x288 with 1 Axes>"
      ]
     },
     "metadata": {
      "needs_background": "light"
     },
     "output_type": "display_data"
    }
   ],
   "source": [
    "def plot_importance(model):\n",
    "    \"\"\"\n",
    "    Fuction to plot variable importance from machine learning model.\n",
    "    Note: the model requires to have \"model.feature_importances_\".\n",
    "   \n",
    "    Inputs\n",
    "    -------\n",
    "    - model: a model with a object \".feature_importances_\"\n",
    "\n",
    "    Returns\n",
    "    -------\n",
    "    - feature importance plot\n",
    "   \n",
    "\n",
    "    \"\"\"\n",
    "\n",
    "    feature_importance = model.feature_importances_\n",
    "    # make importances relative to max importance\n",
    "    feature_importance = 100.0 * (feature_importance / feature_importance.max())\n",
    "    sorted_idx = np.argsort(feature_importance)\n",
    "    pos = np.arange(sorted_idx.shape[0]) + .5\n",
    "    plt.barh(pos, feature_importance[sorted_idx], align='center')\n",
    "    plt.yticks(pos, X_train.columns[sorted_idx])\n",
    "    plt.xlabel('Relative Importance')\n",
    "    plt.title(f'Variable Importance {model.__class__.__name__}')\n",
    "    plt.show()\n",
    "\n",
    "plot_importance(clf)"
   ]
  },
  {
   "cell_type": "markdown",
   "metadata": {},
   "source": [
    "In the feature importance graph above we can see that cons_12m and net_margin are the features that appear the most in our model and we could infere that these two features have a significant importnace in our model."
   ]
  },
  {
   "cell_type": "markdown",
   "metadata": {},
   "source": [
    "## Logistic Regression Model\n",
    "Since the Logistic regression model had a good effectiveness (90%), we are going to use this algorithm for further study."
   ]
  },
  {
   "cell_type": "code",
   "execution_count": 69,
   "metadata": {},
   "outputs": [
    {
     "data": {
      "text/plain": [
       "['cons_12m',\n",
       " 'cons_gas_12m',\n",
       " 'cons_last_month',\n",
       " 'forecast_cons_12m',\n",
       " 'forecast_cons_year',\n",
       " 'forecast_discount_energy',\n",
       " 'forecast_meter_rent_12m',\n",
       " 'forecast_price_energy_p1',\n",
       " 'forecast_price_energy_p2',\n",
       " 'forecast_price_pow_p1',\n",
       " 'imp_cons',\n",
       " 'margin_gross_pow_ele',\n",
       " 'margin_net_pow_ele',\n",
       " 'nb_prod_act',\n",
       " 'net_margin',\n",
       " 'num_years_antig',\n",
       " 'pow_max',\n",
       " 'churn',\n",
       " 'duration',\n",
       " 'channel_sales_encoded',\n",
       " 'retention']"
      ]
     },
     "execution_count": 69,
     "metadata": {},
     "output_type": "execute_result"
    }
   ],
   "source": [
    "train_columns = train.columns.values.tolist()\n",
    "train_columns"
   ]
  },
  {
   "cell_type": "code",
   "execution_count": 70,
   "metadata": {},
   "outputs": [
    {
     "data": {
      "text/plain": [
       "['cons_12m',\n",
       " 'cons_gas_12m',\n",
       " 'cons_last_month',\n",
       " 'forecast_cons_12m',\n",
       " 'forecast_cons_year',\n",
       " 'forecast_discount_energy',\n",
       " 'forecast_meter_rent_12m',\n",
       " 'forecast_price_energy_p1',\n",
       " 'forecast_price_energy_p2',\n",
       " 'forecast_price_pow_p1',\n",
       " 'imp_cons',\n",
       " 'margin_gross_pow_ele',\n",
       " 'margin_net_pow_ele',\n",
       " 'nb_prod_act',\n",
       " 'net_margin',\n",
       " 'num_years_antig',\n",
       " 'pow_max',\n",
       " 'duration',\n",
       " 'channel_sales_encoded',\n",
       " 'retention']"
      ]
     },
     "execution_count": 70,
     "metadata": {},
     "output_type": "execute_result"
    }
   ],
   "source": [
    "Y = ['churn']\n",
    "X = [v for v in train_columns if v not in Y]\n",
    "X"
   ]
  },
  {
   "cell_type": "markdown",
   "metadata": {},
   "source": [
    "### Model Feature Selection\n",
    "This time we are choosing the 12 best features for our model."
   ]
  },
  {
   "cell_type": "code",
   "execution_count": 71,
   "metadata": {},
   "outputs": [],
   "source": [
    "n = 12 #Features"
   ]
  },
  {
   "cell_type": "code",
   "execution_count": 72,
   "metadata": {},
   "outputs": [],
   "source": [
    "from sklearn import datasets\n",
    "from sklearn.feature_selection import RFE\n",
    "from sklearn.linear_model import LogisticRegression"
   ]
  },
  {
   "cell_type": "code",
   "execution_count": 73,
   "metadata": {},
   "outputs": [],
   "source": [
    "lr = LogisticRegression()"
   ]
  },
  {
   "cell_type": "code",
   "execution_count": 74,
   "metadata": {},
   "outputs": [
    {
     "name": "stderr",
     "output_type": "stream",
     "text": [
      "C:\\Users\\Alejandro Cerrilla\\anaconda3\\lib\\site-packages\\sklearn\\linear_model\\_logistic.py:762: ConvergenceWarning: lbfgs failed to converge (status=1):\n",
      "STOP: TOTAL NO. of ITERATIONS REACHED LIMIT.\n",
      "\n",
      "Increase the number of iterations (max_iter) or scale the data as shown in:\n",
      "    https://scikit-learn.org/stable/modules/preprocessing.html\n",
      "Please also refer to the documentation for alternative solver options:\n",
      "    https://scikit-learn.org/stable/modules/linear_model.html#logistic-regression\n",
      "  n_iter_i = _check_optimize_result(\n",
      "C:\\Users\\Alejandro Cerrilla\\anaconda3\\lib\\site-packages\\sklearn\\linear_model\\_logistic.py:762: ConvergenceWarning: lbfgs failed to converge (status=1):\n",
      "STOP: TOTAL NO. of ITERATIONS REACHED LIMIT.\n",
      "\n",
      "Increase the number of iterations (max_iter) or scale the data as shown in:\n",
      "    https://scikit-learn.org/stable/modules/preprocessing.html\n",
      "Please also refer to the documentation for alternative solver options:\n",
      "    https://scikit-learn.org/stable/modules/linear_model.html#logistic-regression\n",
      "  n_iter_i = _check_optimize_result(\n",
      "C:\\Users\\Alejandro Cerrilla\\anaconda3\\lib\\site-packages\\sklearn\\linear_model\\_logistic.py:762: ConvergenceWarning: lbfgs failed to converge (status=1):\n",
      "STOP: TOTAL NO. of ITERATIONS REACHED LIMIT.\n",
      "\n",
      "Increase the number of iterations (max_iter) or scale the data as shown in:\n",
      "    https://scikit-learn.org/stable/modules/preprocessing.html\n",
      "Please also refer to the documentation for alternative solver options:\n",
      "    https://scikit-learn.org/stable/modules/linear_model.html#logistic-regression\n",
      "  n_iter_i = _check_optimize_result(\n",
      "C:\\Users\\Alejandro Cerrilla\\anaconda3\\lib\\site-packages\\sklearn\\linear_model\\_logistic.py:762: ConvergenceWarning: lbfgs failed to converge (status=1):\n",
      "STOP: TOTAL NO. of ITERATIONS REACHED LIMIT.\n",
      "\n",
      "Increase the number of iterations (max_iter) or scale the data as shown in:\n",
      "    https://scikit-learn.org/stable/modules/preprocessing.html\n",
      "Please also refer to the documentation for alternative solver options:\n",
      "    https://scikit-learn.org/stable/modules/linear_model.html#logistic-regression\n",
      "  n_iter_i = _check_optimize_result(\n",
      "C:\\Users\\Alejandro Cerrilla\\anaconda3\\lib\\site-packages\\sklearn\\linear_model\\_logistic.py:762: ConvergenceWarning: lbfgs failed to converge (status=1):\n",
      "STOP: TOTAL NO. of ITERATIONS REACHED LIMIT.\n",
      "\n",
      "Increase the number of iterations (max_iter) or scale the data as shown in:\n",
      "    https://scikit-learn.org/stable/modules/preprocessing.html\n",
      "Please also refer to the documentation for alternative solver options:\n",
      "    https://scikit-learn.org/stable/modules/linear_model.html#logistic-regression\n",
      "  n_iter_i = _check_optimize_result(\n",
      "C:\\Users\\Alejandro Cerrilla\\anaconda3\\lib\\site-packages\\sklearn\\linear_model\\_logistic.py:762: ConvergenceWarning: lbfgs failed to converge (status=1):\n",
      "STOP: TOTAL NO. of ITERATIONS REACHED LIMIT.\n",
      "\n",
      "Increase the number of iterations (max_iter) or scale the data as shown in:\n",
      "    https://scikit-learn.org/stable/modules/preprocessing.html\n",
      "Please also refer to the documentation for alternative solver options:\n",
      "    https://scikit-learn.org/stable/modules/linear_model.html#logistic-regression\n",
      "  n_iter_i = _check_optimize_result(\n"
     ]
    }
   ],
   "source": [
    "rfe = RFE(lr, n_features_to_select=10)\n",
    "rfe = rfe.fit(train[X], train[Y].values.ravel())"
   ]
  },
  {
   "cell_type": "code",
   "execution_count": 75,
   "metadata": {},
   "outputs": [
    {
     "name": "stdout",
     "output_type": "stream",
     "text": [
      "[False False False False False False  True False False  True  True False\n",
      "  True  True  True  True  True  True False  True]\n"
     ]
    }
   ],
   "source": [
    "print(rfe.support_)"
   ]
  },
  {
   "cell_type": "code",
   "execution_count": 76,
   "metadata": {},
   "outputs": [
    {
     "name": "stdout",
     "output_type": "stream",
     "text": [
      "[ 6  5 11  4  3  9  1  7 10  1  1  2  1  1  1  1  1  1  8  1]\n"
     ]
    }
   ],
   "source": [
    "print(rfe.ranking_)"
   ]
  },
  {
   "cell_type": "code",
   "execution_count": 77,
   "metadata": {},
   "outputs": [],
   "source": [
    "z = zip(X,rfe.support_,rfe.ranking_)"
   ]
  },
  {
   "cell_type": "code",
   "execution_count": 78,
   "metadata": {},
   "outputs": [
    {
     "data": {
      "text/plain": [
       "[('cons_12m', False, 6),\n",
       " ('cons_gas_12m', False, 5),\n",
       " ('cons_last_month', False, 11),\n",
       " ('forecast_cons_12m', False, 4),\n",
       " ('forecast_cons_year', False, 3),\n",
       " ('forecast_discount_energy', False, 9),\n",
       " ('forecast_meter_rent_12m', True, 1),\n",
       " ('forecast_price_energy_p1', False, 7),\n",
       " ('forecast_price_energy_p2', False, 10),\n",
       " ('forecast_price_pow_p1', True, 1),\n",
       " ('imp_cons', True, 1),\n",
       " ('margin_gross_pow_ele', False, 2),\n",
       " ('margin_net_pow_ele', True, 1),\n",
       " ('nb_prod_act', True, 1),\n",
       " ('net_margin', True, 1),\n",
       " ('num_years_antig', True, 1),\n",
       " ('pow_max', True, 1),\n",
       " ('duration', True, 1),\n",
       " ('channel_sales_encoded', False, 8),\n",
       " ('retention', True, 1)]"
      ]
     },
     "execution_count": 78,
     "metadata": {},
     "output_type": "execute_result"
    }
   ],
   "source": [
    "list(z)"
   ]
  },
  {
   "cell_type": "code",
   "execution_count": 79,
   "metadata": {},
   "outputs": [],
   "source": [
    "cols = ['forecast_discount_energy','forecast_meter_rent_12m','forecast_price_energy_p1','forecast_price_pow_p1','imp_cons','margin_gross_pow_ele','margin_net_pow_ele','nb_prod_act','net_margin','num_years_antig','pow_max','duration']"
   ]
  },
  {
   "cell_type": "code",
   "execution_count": 80,
   "metadata": {},
   "outputs": [],
   "source": [
    "X = train[cols]\n",
    "Y = train[\"churn\"]"
   ]
  },
  {
   "cell_type": "markdown",
   "metadata": {},
   "source": [
    "### Model Implementation with statsmodels.api"
   ]
  },
  {
   "cell_type": "code",
   "execution_count": 81,
   "metadata": {},
   "outputs": [],
   "source": [
    "import statsmodels.api as sm"
   ]
  },
  {
   "cell_type": "code",
   "execution_count": 82,
   "metadata": {},
   "outputs": [],
   "source": [
    "logit_model = sm.Logit(Y, X) #(Y = Variable to predict, X = Predictive Variables)"
   ]
  },
  {
   "cell_type": "code",
   "execution_count": 83,
   "metadata": {},
   "outputs": [
    {
     "name": "stdout",
     "output_type": "stream",
     "text": [
      "Warning: Maximum number of iterations has been exceeded.\n",
      "         Current function value: 0.308999\n",
      "         Iterations: 35\n"
     ]
    },
    {
     "name": "stderr",
     "output_type": "stream",
     "text": [
      "C:\\Users\\Alejandro Cerrilla\\anaconda3\\lib\\site-packages\\statsmodels\\discrete\\discrete_model.py:1799: RuntimeWarning: overflow encountered in exp\n",
      "  return 1/(1+np.exp(-X))\n",
      "C:\\Users\\Alejandro Cerrilla\\anaconda3\\lib\\site-packages\\statsmodels\\base\\model.py:566: ConvergenceWarning: Maximum Likelihood optimization failed to converge. Check mle_retvals\n",
      "  warnings.warn(\"Maximum Likelihood optimization failed to \"\n"
     ]
    }
   ],
   "source": [
    "result = logit_model.fit()"
   ]
  },
  {
   "cell_type": "code",
   "execution_count": 84,
   "metadata": {},
   "outputs": [
    {
     "data": {
      "text/html": [
       "<table class=\"simpletable\">\n",
       "<tr>\n",
       "        <td>Model:</td>              <td>Logit</td>      <td>Pseudo R-squared:</td>    <td>0.031</td>  \n",
       "</tr>\n",
       "<tr>\n",
       "  <td>Dependent Variable:</td>       <td>churn</td>            <td>AIC:</td>         <td>8959.6414</td>\n",
       "</tr>\n",
       "<tr>\n",
       "         <td>Date:</td>        <td>2021-10-31 18:09</td>       <td>BIC:</td>         <td>9050.5902</td>\n",
       "</tr>\n",
       "<tr>\n",
       "   <td>No. Observations:</td>        <td>14459</td>       <td>Log-Likelihood:</td>    <td>-4467.8</td> \n",
       "</tr>\n",
       "<tr>\n",
       "       <td>Df Model:</td>             <td>11</td>            <td>LL-Null:</td>        <td>-4612.1</td> \n",
       "</tr>\n",
       "<tr>\n",
       "     <td>Df Residuals:</td>          <td>14447</td>        <td>LLR p-value:</td>    <td>2.2713e-55</td>\n",
       "</tr>\n",
       "<tr>\n",
       "      <td>Converged:</td>           <td>0.0000</td>           <td>Scale:</td>         <td>1.0000</td>  \n",
       "</tr>\n",
       "<tr>\n",
       "    <td>No. Iterations:</td>        <td>35.0000</td>             <td></td>               <td></td>     \n",
       "</tr>\n",
       "</table>\n",
       "<table class=\"simpletable\">\n",
       "<tr>\n",
       "              <td></td>               <th>Coef.</th>  <th>Std.Err.</th>     <th>z</th>     <th>P>|z|</th>   <th>[0.025</th>    <th>0.975]</th>  \n",
       "</tr>\n",
       "<tr>\n",
       "  <th>forecast_discount_energy</th>  <td>0.4426</td>   <td>0.1551</td>   <td>2.8547</td>  <td>0.0043</td>   <td>0.1387</td>    <td>0.7465</td>  \n",
       "</tr>\n",
       "<tr>\n",
       "  <th>forecast_meter_rent_12m</th>   <td>-0.0017</td>  <td>0.0007</td>   <td>-2.3760</td> <td>0.0175</td>   <td>-0.0031</td>   <td>-0.0003</td> \n",
       "</tr>\n",
       "<tr>\n",
       "  <th>forecast_price_energy_p1</th> <td>-17.0604</td>  <td>2.2447</td>   <td>-7.6004</td> <td>0.0000</td>  <td>-21.4598</td>  <td>-12.6609</td> \n",
       "</tr>\n",
       "<tr>\n",
       "  <th>forecast_price_pow_p1</th>     <td>0.0136</td>   <td>0.0074</td>   <td>1.8569</td>  <td>0.0633</td>   <td>-0.0008</td>   <td>0.0281</td>  \n",
       "</tr>\n",
       "<tr>\n",
       "  <th>imp_cons</th>                  <td>-0.0003</td>  <td>0.0002</td>   <td>-1.7780</td> <td>0.0754</td>   <td>-0.0006</td>   <td>0.0000</td>  \n",
       "</tr>\n",
       "<tr>\n",
       "  <th>margin_gross_pow_ele</th>     <td>-15.2364</td> <td>2079.9098</td> <td>-0.0073</td> <td>0.9942</td> <td>-4091.7848</td> <td>4061.3119</td>\n",
       "</tr>\n",
       "<tr>\n",
       "  <th>margin_net_pow_ele</th>        <td>15.2674</td> <td>2079.9098</td> <td>0.0073</td>  <td>0.9941</td> <td>-4061.2810</td> <td>4091.8158</td>\n",
       "</tr>\n",
       "<tr>\n",
       "  <th>nb_prod_act</th>               <td>-0.1469</td>  <td>0.0496</td>   <td>-2.9616</td> <td>0.0031</td>   <td>-0.2441</td>   <td>-0.0497</td> \n",
       "</tr>\n",
       "<tr>\n",
       "  <th>net_margin</th>                <td>0.0012</td>   <td>0.0002</td>   <td>5.9274</td>  <td>0.0000</td>   <td>0.0008</td>    <td>0.0016</td>  \n",
       "</tr>\n",
       "<tr>\n",
       "  <th>num_years_antig</th>           <td>-0.3343</td>  <td>0.0637</td>   <td>-5.2502</td> <td>0.0000</td>   <td>-0.4590</td>   <td>-0.2095</td> \n",
       "</tr>\n",
       "<tr>\n",
       "  <th>pow_max</th>                   <td>-0.0275</td>  <td>0.0046</td>   <td>-5.9519</td> <td>0.0000</td>   <td>-0.0366</td>   <td>-0.0184</td> \n",
       "</tr>\n",
       "<tr>\n",
       "  <th>duration</th>                  <td>0.0005</td>   <td>0.0002</td>   <td>2.9564</td>  <td>0.0031</td>   <td>0.0002</td>    <td>0.0008</td>  \n",
       "</tr>\n",
       "</table>"
      ],
      "text/plain": [
       "<class 'statsmodels.iolib.summary2.Summary'>\n",
       "\"\"\"\n",
       "                                Results: Logit\n",
       "===============================================================================\n",
       "Model:                    Logit                Pseudo R-squared:     0.031     \n",
       "Dependent Variable:       churn                AIC:                  8959.6414 \n",
       "Date:                     2021-10-31 18:09     BIC:                  9050.5902 \n",
       "No. Observations:         14459                Log-Likelihood:       -4467.8   \n",
       "Df Model:                 11                   LL-Null:              -4612.1   \n",
       "Df Residuals:             14447                LLR p-value:          2.2713e-55\n",
       "Converged:                0.0000               Scale:                1.0000    \n",
       "No. Iterations:           35.0000                                              \n",
       "-------------------------------------------------------------------------------\n",
       "                          Coef.    Std.Err.    z    P>|z|    [0.025     0.975] \n",
       "-------------------------------------------------------------------------------\n",
       "forecast_discount_energy   0.4426    0.1551  2.8547 0.0043     0.1387    0.7465\n",
       "forecast_meter_rent_12m   -0.0017    0.0007 -2.3760 0.0175    -0.0031   -0.0003\n",
       "forecast_price_energy_p1 -17.0604    2.2447 -7.6004 0.0000   -21.4598  -12.6609\n",
       "forecast_price_pow_p1      0.0136    0.0074  1.8569 0.0633    -0.0008    0.0281\n",
       "imp_cons                  -0.0003    0.0002 -1.7780 0.0754    -0.0006    0.0000\n",
       "margin_gross_pow_ele     -15.2364 2079.9098 -0.0073 0.9942 -4091.7848 4061.3119\n",
       "margin_net_pow_ele        15.2674 2079.9098  0.0073 0.9941 -4061.2810 4091.8158\n",
       "nb_prod_act               -0.1469    0.0496 -2.9616 0.0031    -0.2441   -0.0497\n",
       "net_margin                 0.0012    0.0002  5.9274 0.0000     0.0008    0.0016\n",
       "num_years_antig           -0.3343    0.0637 -5.2502 0.0000    -0.4590   -0.2095\n",
       "pow_max                   -0.0275    0.0046 -5.9519 0.0000    -0.0366   -0.0184\n",
       "duration                   0.0005    0.0002  2.9564 0.0031     0.0002    0.0008\n",
       "===============================================================================\n",
       "\n",
       "\"\"\""
      ]
     },
     "execution_count": 84,
     "metadata": {},
     "output_type": "execute_result"
    }
   ],
   "source": [
    "result.summary2()"
   ]
  },
  {
   "cell_type": "markdown",
   "metadata": {},
   "source": [
    "Also we´ve discovered that the Net Margin on power subscription is a great feature for our column since it has a positive coeficient on the impact of the churn."
   ]
  },
  {
   "cell_type": "code",
   "execution_count": null,
   "metadata": {},
   "outputs": [],
   "source": []
  }
 ],
 "metadata": {
  "kernelspec": {
   "display_name": "Python 3",
   "language": "python",
   "name": "python3"
  },
  "language_info": {
   "codemirror_mode": {
    "name": "ipython",
    "version": 3
   },
   "file_extension": ".py",
   "mimetype": "text/x-python",
   "name": "python",
   "nbconvert_exporter": "python",
   "pygments_lexer": "ipython3",
   "version": "3.8.5"
  }
 },
 "nbformat": 4,
 "nbformat_minor": 4
}
